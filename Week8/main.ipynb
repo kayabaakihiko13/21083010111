{
 "cells": [
  {
   "cell_type": "markdown",
   "metadata": {},
   "source": [
    "# import Pakage"
   ]
  },
  {
   "cell_type": "code",
   "execution_count": 6,
   "metadata": {},
   "outputs": [],
   "source": [
    "from os import getpid\n",
    "from time import time,sleep\n",
    "from multiprocessing import cpu_count,Process,Pool\n",
    "\n"
   ]
  },
  {
   "cell_type": "code",
   "execution_count": 12,
   "metadata": {},
   "outputs": [
    {
     "name": "stdout",
     "output_type": "stream",
     "text": [
      "Kernel Arsitektur\n",
      "uname: invalid option -- 'k'\n",
      "Try 'uname --help' for more information.\n",
      "Speks\n",
      "No LSB modules are available.\n",
      "Distributor ID:\tUbuntu\n",
      "Description:\tUbuntu 22.10\n",
      "Release:\t22.10\n",
      "Codename:\tkinetic\n"
     ]
    },
    {
     "data": {
      "text/plain": [
       "4"
      ]
     },
     "execution_count": 12,
     "metadata": {},
     "output_type": "execute_result"
    }
   ],
   "source": [
    "# my speck\n",
    "! echo \"Kernel Arsitektur\"\n",
    "! uname -kayaba\n",
    "! echo \"Speks\"\n",
    "! lsb_release -a\n",
    "cpu_count()"
   ]
  },
  {
   "cell_type": "markdown",
   "metadata": {},
   "source": [
    "# dengan squential"
   ]
  },
  {
   "cell_type": "code",
   "execution_count": 2,
   "metadata": {},
   "outputs": [],
   "source": [
    "# make function for count number from 1 until 10\n",
    "def cetak(par):\n",
    "    print(\"Cetak angka\", par,\"- punya ID proses\", getpid())\n",
    "    sleep(1)"
   ]
  },
  {
   "cell_type": "code",
   "execution_count": 3,
   "metadata": {},
   "outputs": [
    {
     "name": "stdout",
     "output_type": "stream",
     "text": [
      "Cetak angka 1 - punya ID proses 6809\n",
      "Cetak angka 2 - punya ID proses 6809\n"
     ]
    },
    {
     "data": {
      "text/plain": [
       "2.0027313232421875"
      ]
     },
     "execution_count": 3,
     "metadata": {},
     "output_type": "execute_result"
    }
   ],
   "source": [
    "start_sequential=time()\n",
    "for i in range(1,3):\n",
    "    cetak(i)\n",
    "finis_sequential=time()\n",
    "finis_sequential-start_sequential"
   ]
  },
  {
   "cell_type": "markdown",
   "metadata": {},
   "source": [
    "# multiprocessing with  process"
   ]
  },
  {
   "cell_type": "code",
   "execution_count": 4,
   "metadata": {},
   "outputs": [
    {
     "name": "stdout",
     "output_type": "stream",
     "text": [
      "Cetak angka 1 - punya ID proses 6809\n",
      "Cetak angka 2 - punya ID proses 6809\n"
     ]
    }
   ],
   "source": [
    "process_start=time()\n",
    "\n",
    "for i in range(1,3):\n",
    "    p=Process(target=cetak(i),args=(i,))\n",
    "    p.start()\n",
    "    p.join()\n",
    "\n",
    "process_akhir=time()\n"
   ]
  },
  {
   "cell_type": "code",
   "execution_count": 5,
   "metadata": {},
   "outputs": [
    {
     "data": {
      "text/plain": [
       "2.0696892738342285"
      ]
     },
     "execution_count": 5,
     "metadata": {},
     "output_type": "execute_result"
    }
   ],
   "source": [
    "selisih=process_akhir-process_start\n",
    "selisih"
   ]
  },
  {
   "cell_type": "markdown",
   "metadata": {},
   "source": [
    "# dengan Pool"
   ]
  },
  {
   "cell_type": "code",
   "execution_count": 13,
   "metadata": {},
   "outputs": [
    {
     "name": "stdout",
     "output_type": "stream",
     "text": [
      "Cetak angkaCetak angka 1  2- punya ID proses - punya ID proses 8014\n",
      " 8015\n"
     ]
    },
    {
     "data": {
      "text/plain": [
       "1.077380657196045"
      ]
     },
     "execution_count": 13,
     "metadata": {},
     "output_type": "execute_result"
    }
   ],
   "source": [
    "pool_start=time()\n",
    "with Pool() as p:\n",
    "    p.map(cetak,range(1,3))\n",
    "    p.close()\n",
    "pool_end=time()\n",
    "pool_end-pool_start"
   ]
  },
  {
   "cell_type": "code",
   "execution_count": null,
   "metadata": {},
   "outputs": [],
   "source": []
  }
 ],
 "metadata": {
  "kernelspec": {
   "display_name": "Python 3.10.7 64-bit",
   "language": "python",
   "name": "python3"
  },
  "language_info": {
   "codemirror_mode": {
    "name": "ipython",
    "version": 3
   },
   "file_extension": ".py",
   "mimetype": "text/x-python",
   "name": "python",
   "nbconvert_exporter": "python",
   "pygments_lexer": "ipython3",
   "version": "3.10.7"
  },
  "orig_nbformat": 4,
  "vscode": {
   "interpreter": {
    "hash": "916dbcbb3f70747c44a77c7bcd40155683ae19c65e1c03b4aa3499c5328201f1"
   }
  }
 },
 "nbformat": 4,
 "nbformat_minor": 2
}
