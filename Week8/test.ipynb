{
 "cells": [
  {
   "cell_type": "code",
   "execution_count": 2,
   "metadata": {},
   "outputs": [],
   "source": [
    "from time import time,sleep\n",
    "from os import getpid\n",
    "from multiprocessing import Pool,Process"
   ]
  },
  {
   "cell_type": "markdown",
   "metadata": {},
   "source": [
    "# Make Function"
   ]
  },
  {
   "cell_type": "code",
   "execution_count": 9,
   "metadata": {},
   "outputs": [],
   "source": [
    "def odd_even(data):\n",
    "    for i in range(1,data+1):\n",
    "        if i%2 ==0:\n",
    "            print(f'{i} Genap Get ID-{getpid()}')\n",
    "        else:\n",
    "            print(f'{i} Ganjil Get ID-{getpid()}')\n",
    "\n"
   ]
  },
  {
   "cell_type": "markdown",
   "metadata": {},
   "source": [
    "# menggunakan sequencial"
   ]
  },
  {
   "cell_type": "code",
   "execution_count": 13,
   "metadata": {},
   "outputs": [
    {
     "name": "stdout",
     "output_type": "stream",
     "text": [
      "1 Ganjil Get ID-7866\n",
      "2 Genap Get ID-7866\n",
      "3 Ganjil Get ID-7866\n",
      "4 Genap Get ID-7866\n",
      "5 Ganjil Get ID-7866\n",
      "6 Genap Get ID-7866\n",
      "7 Ganjil Get ID-7866\n",
      "8 Genap Get ID-7866\n",
      "9 Ganjil Get ID-7866\n",
      "10 Genap Get ID-7866\n"
     ]
    }
   ],
   "source": [
    "seq_start=time()\n",
    "in_user=int(input('masukan data:'))\n",
    "odd_even(in_user)\n",
    "seq_akhir=time()\n"
   ]
  },
  {
   "cell_type": "code",
   "execution_count": 14,
   "metadata": {},
   "outputs": [
    {
     "data": {
      "text/plain": [
       "1.7749700546264648"
      ]
     },
     "execution_count": 14,
     "metadata": {},
     "output_type": "execute_result"
    }
   ],
   "source": [
    "seq_akhir-seq_start"
   ]
  },
  {
   "cell_type": "markdown",
   "metadata": {},
   "source": [
    "# Menggunakan Process\n"
   ]
  },
  {
   "cell_type": "code",
   "execution_count": 22,
   "metadata": {},
   "outputs": [
    {
     "name": "stdout",
     "output_type": "stream",
     "text": [
      "1 Ganjil Get ID-9838\n",
      "1 Ganjil Get ID-9839\n",
      "1 Ganjil Get ID-98462 Genap Get ID-9839\n",
      "\n",
      "2 Genap Get ID-98461 Ganjil Get ID-9851\n",
      "1 Ganjil Get ID-9860\n",
      "3 Ganjil Get ID-9846\n",
      "\n",
      "\n",
      "2 Genap Get ID-98511 Ganjil Get ID-98671 Ganjil Get ID-9881\n",
      "1 Ganjil Get ID-98882 Genap Get ID-9860\n",
      "\n",
      "2 Genap Get ID-9888\n",
      "3 Ganjil Get ID-98601 Ganjil Get ID-98762 Genap Get ID-9881\n",
      "\n",
      "3 Ganjil Get ID-98513 Ganjil Get ID-9888\n",
      "\n",
      "\n",
      "2 Genap Get ID-9876\n",
      "4 Genap Get ID-98884 Genap Get ID-9851\n",
      "4 Genap Get ID-9860\n",
      "2 Genap Get ID-98673 Ganjil Get ID-98815 Ganjil Get ID-9888\n",
      "\n",
      "\n",
      "\n",
      "5 Ganjil Get ID-98603 Ganjil Get ID-9867\n",
      "\n",
      "4 Genap Get ID-9881\n",
      "3 Ganjil Get ID-98764 Genap Get ID-98676 Genap Get ID-9888\n",
      "\n",
      "\n",
      "\n",
      "4 Genap Get ID-98767 Ganjil Get ID-98885 Ganjil Get ID-9881\n",
      "5 Ganjil Get ID-9867\n",
      "5 Ganjil Get ID-9876\n",
      "8 Genap Get ID-9888\n",
      "\n",
      "6 Genap Get ID-9881\n",
      "6 Genap Get ID-98769 Ganjil Get ID-98886 Genap Get ID-9867\n",
      "\n",
      "\n",
      "7 Ganjil Get ID-9881\n",
      "\n",
      "7 Ganjil Get ID-98768 Genap Get ID-9881"
     ]
    },
    {
     "name": "stdout",
     "output_type": "stream",
     "text": [
      "\n",
      "\n"
     ]
    }
   ],
   "source": [
    "process_start=time()\n",
    "memo=[]\n",
    "for i in range(in_user):\n",
    "    p=Process(target=odd_even,args=(i,))\n",
    "    memo.append(p)\n",
    "    p.start()\n",
    "for sub in memo:\n",
    "    p.join()\n",
    "\n",
    "process_end=time()"
   ]
  },
  {
   "cell_type": "markdown",
   "metadata": {},
   "source": [
    "# menggunakan pool"
   ]
  },
  {
   "cell_type": "code",
   "execution_count": 25,
   "metadata": {},
   "outputs": [
    {
     "data": {
      "text/plain": [
       "<Process name='Process-52' pid=9888 parent=7866 stopped exitcode=0>"
      ]
     },
     "execution_count": 25,
     "metadata": {},
     "output_type": "execute_result"
    }
   ],
   "source": [
    "pool_awal=time()\n",
    "pool=Pool()\n",
    "pool.map(odd_even,range(1,in_user+1))"
   ]
  },
  {
   "cell_type": "code",
   "execution_count": null,
   "metadata": {},
   "outputs": [],
   "source": []
  }
 ],
 "metadata": {
  "kernelspec": {
   "display_name": "Python 3.10.7 64-bit",
   "language": "python",
   "name": "python3"
  },
  "language_info": {
   "codemirror_mode": {
    "name": "ipython",
    "version": 3
   },
   "file_extension": ".py",
   "mimetype": "text/x-python",
   "name": "python",
   "nbconvert_exporter": "python",
   "pygments_lexer": "ipython3",
   "version": "3.10.7"
  },
  "orig_nbformat": 4,
  "vscode": {
   "interpreter": {
    "hash": "916dbcbb3f70747c44a77c7bcd40155683ae19c65e1c03b4aa3499c5328201f1"
   }
  }
 },
 "nbformat": 4,
 "nbformat_minor": 2
}
