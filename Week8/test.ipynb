{
 "cells": [
  {
   "cell_type": "code",
   "execution_count": 7,
   "metadata": {},
   "outputs": [],
   "source": [
    "from time import time,sleep\n",
    "from os import getpid\n",
    "from multiprocessing import Pool,Process"
   ]
  },
  {
   "cell_type": "markdown",
   "metadata": {},
   "source": [
    "# Make Function"
   ]
  },
  {
   "cell_type": "code",
   "execution_count": 8,
   "metadata": {},
   "outputs": [],
   "source": [
    "def odd_even(data):\n",
    "    for i in range(1,data+1):\n",
    "        if i%2 ==0:\n",
    "            print(f'{i} Genap Get ID-{getpid()}')\n",
    "        else:\n",
    "            print(f'{i} Ganjil Get ID-{getpid()}')\n",
    "\n"
   ]
  },
  {
   "cell_type": "markdown",
   "metadata": {},
   "source": [
    "# menggunakan sequencial"
   ]
  },
  {
   "cell_type": "code",
   "execution_count": 9,
   "metadata": {},
   "outputs": [
    {
     "ename": "ValueError",
     "evalue": "invalid literal for int() with base 10: ''",
     "output_type": "error",
     "traceback": [
      "\u001b[0;31m---------------------------------------------------------------------------\u001b[0m",
      "\u001b[0;31mValueError\u001b[0m                                Traceback (most recent call last)",
      "Cell \u001b[0;32mIn [9], line 2\u001b[0m\n\u001b[1;32m      1\u001b[0m seq_start\u001b[39m=\u001b[39mtime()\n\u001b[0;32m----> 2\u001b[0m in_user\u001b[39m=\u001b[39m\u001b[39mint\u001b[39;49m(\u001b[39minput\u001b[39;49m(\u001b[39m'\u001b[39;49m\u001b[39mmasukan data:\u001b[39;49m\u001b[39m'\u001b[39;49m))\n\u001b[1;32m      3\u001b[0m odd_even(in_user)\n\u001b[1;32m      4\u001b[0m seq_akhir\u001b[39m=\u001b[39mtime()\n",
      "\u001b[0;31mValueError\u001b[0m: invalid literal for int() with base 10: ''"
     ]
    }
   ],
   "source": [
    "seq_start=time()\n",
    "in_user=int(input('masukan data:'))\n",
    "odd_even(in_user)\n",
    "seq_akhir=time()\n"
   ]
  },
  {
   "cell_type": "code",
   "execution_count": null,
   "metadata": {},
   "outputs": [
    {
     "data": {
      "text/plain": [
       "2.3874423503875732"
      ]
     },
     "execution_count": 4,
     "metadata": {},
     "output_type": "execute_result"
    }
   ],
   "source": [
    "seq_akhir-seq_start"
   ]
  },
  {
   "cell_type": "markdown",
   "metadata": {},
   "source": [
    "# Menggunakan Process\n"
   ]
  },
  {
   "cell_type": "code",
   "execution_count": 5,
   "metadata": {},
   "outputs": [
    {
     "name": "stdout",
     "output_type": "stream",
     "text": [
      "1 Ganjil Get ID-6938\n",
      "1 Ganjil Get ID-6941\n",
      "2 Genap Get ID-6941\n",
      "1 Ganjil Get ID-6948\n",
      "2 Genap Get ID-6948\n",
      "1 Ganjil Get ID-69641 Ganjil Get ID-6957\n",
      "3 Ganjil Get ID-6948\n",
      "1 Ganjil Get ID-69692 Genap Get ID-69572 Genap Get ID-6964\n",
      "\n",
      "\n",
      "1 Ganjil Get ID-69763 Ganjil Get ID-69572 Genap Get ID-69691 Ganjil Get ID-6986\n",
      "\n",
      "\n",
      "2 Genap Get ID-69764 Genap Get ID-69573 Ganjil Get ID-69691 Ganjil Get ID-6981\n",
      "\n",
      "\n",
      "3 Ganjil Get ID-6976\n",
      "\n",
      "\n",
      "4 Genap Get ID-69692 Genap Get ID-6986\n",
      "2 Genap Get ID-6981\n",
      "3 Ganjil Get ID-6964\n",
      "5 Ganjil Get ID-6969\n",
      "3 Ganjil Get ID-6986\n",
      "4 Genap Get ID-6976\n",
      "4 Genap Get ID-69643 Ganjil Get ID-6981\n",
      "\n",
      "6 Genap Get ID-69695 Ganjil Get ID-6976\n",
      "5 Ganjil Get ID-6964\n",
      "\n",
      "\n",
      "\n",
      "4 Genap Get ID-69866 Genap Get ID-6976\n",
      "\n",
      "7 Ganjil Get ID-6976\n",
      "5 Ganjil Get ID-6986\n",
      "6 Genap Get ID-69864 Genap Get ID-6981\n",
      "7 Ganjil Get ID-6986\n",
      "5 Ganjil Get ID-6981\n",
      "8 Genap Get ID-6986\n",
      "6 Genap Get ID-6981\n",
      "\n",
      "7 Ganjil Get ID-6981\n",
      "8 Genap Get ID-69819 Ganjil Get ID-6986\n",
      "\n"
     ]
    },
    {
     "data": {
      "text/plain": [
       "0.2346353530883789"
      ]
     },
     "execution_count": 5,
     "metadata": {},
     "output_type": "execute_result"
    }
   ],
   "source": [
    "process_start=time()\n",
    "memo=[]\n",
    "for i in range(in_user):\n",
    "    p=Process(target=odd_even,args=(i,))\n",
    "    memo.append(p)\n",
    "    p.start()\n",
    "for sub in memo:\n",
    "    p.join()\n",
    "\n",
    "process_end=time()\n",
    "process_end-process_start"
   ]
  },
  {
   "cell_type": "markdown",
   "metadata": {},
   "source": [
    "# menggunakan pool"
   ]
  },
  {
   "cell_type": "code",
   "execution_count": 6,
   "metadata": {},
   "outputs": [
    {
     "name": "stdout",
     "output_type": "stream",
     "text": [
      "1 Ganjil Get ID-71271 Ganjil Get ID-71281 Ganjil Get ID-71291 Ganjil Get ID-7130\n",
      "1 Ganjil Get ID-7127\n",
      "2 Genap Get ID-7128\n",
      "2 Genap Get ID-7130\n",
      "\n",
      "\n",
      "2 Genap Get ID-7129\n",
      "3 Ganjil Get ID-71301 Ganjil Get ID-7128\n",
      "3 Ganjil Get ID-7129\n",
      "2 Genap Get ID-7128\n",
      "2 Genap Get ID-7127\n",
      "3 Ganjil Get ID-7128\n",
      "\n",
      "1 Ganjil Get ID-7129\n",
      "4 Genap Get ID-71283 Ganjil Get ID-7127\n",
      "4 Genap Get ID-7130\n",
      "2 Genap Get ID-7129\n",
      "\n",
      "1 Ganjil Get ID-71305 Ganjil Get ID-71284 Genap Get ID-7127\n",
      "\n",
      "\n",
      "\n",
      "6 Genap Get ID-71282 Genap Get ID-7130\n",
      "3 Ganjil Get ID-7129\n",
      "5 Ganjil Get ID-71273 Ganjil Get ID-71301 Ganjil Get ID-7128\n",
      "\n",
      "\n",
      "\n",
      "4 Genap Get ID-71291 Ganjil Get ID-7127\n",
      "2 Genap Get ID-7128\n",
      "2 Genap Get ID-7127\n",
      "\n",
      "4 Genap Get ID-71303 Ganjil Get ID-71285 Ganjil Get ID-7129\n",
      "\n",
      "3 Ganjil Get ID-71274 Genap Get ID-7128\n",
      "\n",
      "\n",
      "4 Genap Get ID-71276 Genap Get ID-7129\n",
      "5 Ganjil Get ID-7128\n",
      "5 Ganjil Get ID-71307 Ganjil Get ID-7129\n",
      "5 Ganjil Get ID-71276 Genap Get ID-7128\n",
      "\n",
      "\n",
      "6 Genap Get ID-7127\n",
      "\n",
      "7 Ganjil Get ID-71277 Ganjil Get ID-7128\n",
      "6 Genap Get ID-71308 Genap Get ID-7127\n",
      "7 Ganjil Get ID-7130\n",
      "\n",
      "\n",
      "9 Ganjil Get ID-7127\n",
      "8 Genap Get ID-7128\n",
      "8 Genap Get ID-71309 Ganjil Get ID-712810 Genap Get ID-7127\n",
      "\n",
      "\n"
     ]
    },
    {
     "data": {
      "text/plain": [
       "0.2842867374420166"
      ]
     },
     "execution_count": 6,
     "metadata": {},
     "output_type": "execute_result"
    }
   ],
   "source": [
    "pool_awal=time()\n",
    "pool=Pool()\n",
    "pool.map(odd_even,range(1,in_user+1))\n",
    "p.close()\n",
    "pool_akhir=time()\n",
    "pool_akhir-pool_awal"
   ]
  },
  {
   "cell_type": "code",
   "execution_count": null,
   "metadata": {},
   "outputs": [],
   "source": []
  }
 ],
 "metadata": {
  "kernelspec": {
   "display_name": "Python 3.10.7 64-bit",
   "language": "python",
   "name": "python3"
  },
  "language_info": {
   "codemirror_mode": {
    "name": "ipython",
    "version": 3
   },
   "file_extension": ".py",
   "mimetype": "text/x-python",
   "name": "python",
   "nbconvert_exporter": "python",
   "pygments_lexer": "ipython3",
   "version": "3.10.7"
  },
  "orig_nbformat": 4,
  "vscode": {
   "interpreter": {
    "hash": "916dbcbb3f70747c44a77c7bcd40155683ae19c65e1c03b4aa3499c5328201f1"
   }
  }
 },
 "nbformat": 4,
 "nbformat_minor": 2
}
